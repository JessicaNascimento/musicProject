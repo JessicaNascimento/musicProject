{
 "cells": [
  {
   "cell_type": "code",
   "execution_count": 15,
   "metadata": {},
   "outputs": [],
   "source": [
    "# imports\n",
    "\n",
    "import numpy as np\n",
    "from string import ascii_lowercase\n",
    "from music21 import note, corpus, stream, chord, clef\n",
    "\n",
    "# read files\n",
    "import json\n",
    "import pandas as pd"
   ]
  },
  {
   "cell_type": "code",
   "execution_count": 16,
   "metadata": {},
   "outputs": [],
   "source": [
    "# loading bach songs \n",
    "\n",
    "with open('bach.json','r') as f:\n",
    "    bachElem = json.load(f)    "
   ]
  },
  {
   "cell_type": "code",
   "execution_count": 17,
   "metadata": {},
   "outputs": [],
   "source": [
    "# getting all notes used by bach\n",
    "\n",
    "possibleNotes = []\n",
    "\n",
    "for nSong in bachElem:\n",
    "    for instrument in bachElem[nSong]:\n",
    "        for sNote in bachElem[nSong][instrument]:\n",
    "            if sNote not in possibleNotes:\n",
    "                possibleNotes.append(sNote)"
   ]
  },
  {
   "cell_type": "code",
   "execution_count": 18,
   "metadata": {},
   "outputs": [],
   "source": [
    "# import 1000 more used words in portuguese\n",
    "\n",
    "df = pd.read_excel('Files/top1000words.xlsx')\n",
    "palavras = df['palavras']\n",
    "\n",
    "wSong = {}\n",
    "for i,letter in enumerate(ascii_lowercase):\n",
    "    wSong[letter] = possibleNotes[i]\n",
    "i+=1\n",
    "for j, sNote in enumerate(possibleNotes[i:]):\n",
    "    wSong[palavras[j]] = sNote"
   ]
  },
  {
   "cell_type": "code",
   "execution_count": 28,
   "metadata": {},
   "outputs": [],
   "source": [
    "def phrase2song(phrase, wSong):\n",
    "    \"\"\"\n",
    "        This function transforms a word phrase into musical notes\n",
    "    \"\"\"\n",
    "    text = phrase.lower().replace('.',' ').split(' ')\n",
    "    song = []\n",
    "    outText = \"\"\n",
    "    for word in text:\n",
    "        if word in wSong.keys():\n",
    "            song.append(wSong[word])\n",
    "            outText += word + \" \"\n",
    "        else:\n",
    "            song.append(wSong[word[0]])\n",
    "            outText += word[0] + \" \"\n",
    "    return song, outText"
   ]
  },
  {
   "cell_type": "code",
   "execution_count": 29,
   "metadata": {},
   "outputs": [],
   "source": [
    "song, outText = phrase2song('parabéns pra você parabéns pra você muitas felicidades muitos anos de vida', pSong)"
   ]
  },
  {
   "cell_type": "code",
   "execution_count": 30,
   "metadata": {},
   "outputs": [
    {
     "data": {
      "text/plain": [
       "'p p você p p você m f muitos a de vida '"
      ]
     },
     "execution_count": 30,
     "metadata": {},
     "output_type": "execute_result"
    }
   ],
   "source": [
    "outText"
   ]
  },
  {
   "cell_type": "code",
   "execution_count": 23,
   "metadata": {},
   "outputs": [
    {
     "data": {
      "text/html": [
       "\n",
       "                <div id='midiPlayerDiv106'></div>\n",
       "                <link rel=\"stylesheet\" href=\"//cuthbertLab.github.io/music21j/css/m21.css\"\n",
       "                    type=\"text/css\" />\n",
       "                <script>\n",
       "                require.config({\n",
       "                    paths: {'music21': '//cuthbertLab.github.io/music21j/src/music21'}\n",
       "                });\n",
       "                require(['music21'], function() {\n",
       "                               mp = new music21.miditools.MidiPlayer();\n",
       "                               mp.addPlayer('#midiPlayerDiv106');\n",
       "                               mp.base64Load('data:audio/midi;base64,TVRoZAAAAAYAAQABBABNVHJrAAAAeQD/AwAA4ABAAJBHWoIAgEcAAJBHWoIAgEcAAJA0WogAgDQAAJBHWoIAgEcAAJBHWoIAgEcAAJA0WogAgDQAAJBIWoIAgEgAAJA5WoQAgDkAAJAyWowAgDIAAJBBWogAgEEAAJAuWoQAgC4AAJBPWpgAgE8AiAD/LwA=');\n",
       "                        });\n",
       "                </script>"
      ],
      "text/plain": [
       "<IPython.core.display.HTML object>"
      ]
     },
     "metadata": {},
     "output_type": "display_data"
    }
   ],
   "source": [
    "newSong = stream.Stream()\n",
    "for n in song:\n",
    "    newSong.append(note.Note(n[1], quarterLength=n[0]))\n",
    "newSong.show('midi')"
   ]
  }
 ],
 "metadata": {
  "kernelspec": {
   "display_name": "Python 3",
   "language": "python",
   "name": "python3"
  },
  "language_info": {
   "codemirror_mode": {
    "name": "ipython",
    "version": 3
   },
   "file_extension": ".py",
   "mimetype": "text/x-python",
   "name": "python",
   "nbconvert_exporter": "python",
   "pygments_lexer": "ipython3",
   "version": "3.6.8"
  }
 },
 "nbformat": 4,
 "nbformat_minor": 2
}
